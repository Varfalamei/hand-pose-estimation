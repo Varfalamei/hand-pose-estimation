{
 "metadata": {
  "kernelspec": {
   "language": "python",
   "display_name": "Python 3",
   "name": "python3"
  },
  "language_info": {
   "name": "python",
   "version": "3.10.10",
   "mimetype": "text/x-python",
   "codemirror_mode": {
    "name": "ipython",
    "version": 3
   },
   "pygments_lexer": "ipython3",
   "nbconvert_exporter": "python",
   "file_extension": ".py"
  }
 },
 "nbformat_minor": 4,
 "nbformat": 4,
 "cells": [
  {
   "cell_type": "code",
   "source": [
    "pip install python-box mediapipe gdown"
   ],
   "metadata": {
    "execution": {
     "iopub.status.busy": "2023-05-24T02:13:06.837200Z",
     "iopub.execute_input": "2023-05-24T02:13:06.837618Z",
     "iopub.status.idle": "2023-05-24T02:13:17.793319Z",
     "shell.execute_reply.started": "2023-05-24T02:13:06.837588Z",
     "shell.execute_reply": "2023-05-24T02:13:17.791842Z"
    },
    "trusted": true
   },
   "execution_count": 39,
   "outputs": [
    {
     "name": "stdout",
     "text": "Requirement already satisfied: python-box in /opt/conda/lib/python3.10/site-packages (7.0.1)\nRequirement already satisfied: mediapipe in /opt/conda/lib/python3.10/site-packages (0.10.0)\nRequirement already satisfied: gdown in /opt/conda/lib/python3.10/site-packages (4.7.1)\nRequirement already satisfied: flatbuffers>=2.0 in /opt/conda/lib/python3.10/site-packages (from mediapipe) (23.3.3)\nRequirement already satisfied: opencv-contrib-python in /opt/conda/lib/python3.10/site-packages (from mediapipe) (4.5.4.60)\nRequirement already satisfied: matplotlib in /opt/conda/lib/python3.10/site-packages (from mediapipe) (3.6.3)\nRequirement already satisfied: attrs>=19.1.0 in /opt/conda/lib/python3.10/site-packages (from mediapipe) (22.2.0)\nRequirement already satisfied: protobuf<4,>=3.11 in /opt/conda/lib/python3.10/site-packages (from mediapipe) (3.20.3)\nRequirement already satisfied: numpy in /opt/conda/lib/python3.10/site-packages (from mediapipe) (1.23.5)\nRequirement already satisfied: sounddevice>=0.4.4 in /opt/conda/lib/python3.10/site-packages (from mediapipe) (0.4.6)\nRequirement already satisfied: absl-py in /opt/conda/lib/python3.10/site-packages (from mediapipe) (1.4.0)\nRequirement already satisfied: six in /opt/conda/lib/python3.10/site-packages (from gdown) (1.16.0)\nRequirement already satisfied: beautifulsoup4 in /opt/conda/lib/python3.10/site-packages (from gdown) (4.12.2)\nRequirement already satisfied: filelock in /opt/conda/lib/python3.10/site-packages (from gdown) (3.11.0)\nRequirement already satisfied: requests[socks] in /opt/conda/lib/python3.10/site-packages (from gdown) (2.28.2)\nRequirement already satisfied: tqdm in /opt/conda/lib/python3.10/site-packages (from gdown) (4.64.1)\nRequirement already satisfied: CFFI>=1.0 in /opt/conda/lib/python3.10/site-packages (from sounddevice>=0.4.4->mediapipe) (1.15.1)\nRequirement already satisfied: soupsieve>1.2 in /opt/conda/lib/python3.10/site-packages (from beautifulsoup4->gdown) (2.4)\nRequirement already satisfied: python-dateutil>=2.7 in /opt/conda/lib/python3.10/site-packages (from matplotlib->mediapipe) (2.8.2)\nRequirement already satisfied: pyparsing>=2.2.1 in /opt/conda/lib/python3.10/site-packages (from matplotlib->mediapipe) (3.0.9)\nRequirement already satisfied: packaging>=20.0 in /opt/conda/lib/python3.10/site-packages (from matplotlib->mediapipe) (21.3)\nRequirement already satisfied: pillow>=6.2.0 in /opt/conda/lib/python3.10/site-packages (from matplotlib->mediapipe) (9.5.0)\nRequirement already satisfied: fonttools>=4.22.0 in /opt/conda/lib/python3.10/site-packages (from matplotlib->mediapipe) (4.39.3)\nRequirement already satisfied: kiwisolver>=1.0.1 in /opt/conda/lib/python3.10/site-packages (from matplotlib->mediapipe) (1.4.4)\nRequirement already satisfied: cycler>=0.10 in /opt/conda/lib/python3.10/site-packages (from matplotlib->mediapipe) (0.11.0)\nRequirement already satisfied: contourpy>=1.0.1 in /opt/conda/lib/python3.10/site-packages (from matplotlib->mediapipe) (1.0.7)\nRequirement already satisfied: certifi>=2017.4.17 in /opt/conda/lib/python3.10/site-packages (from requests[socks]->gdown) (2022.12.7)\nRequirement already satisfied: urllib3<1.27,>=1.21.1 in /opt/conda/lib/python3.10/site-packages (from requests[socks]->gdown) (1.26.15)\nRequirement already satisfied: charset-normalizer<4,>=2 in /opt/conda/lib/python3.10/site-packages (from requests[socks]->gdown) (2.1.1)\nRequirement already satisfied: idna<4,>=2.5 in /opt/conda/lib/python3.10/site-packages (from requests[socks]->gdown) (3.4)\nRequirement already satisfied: PySocks!=1.5.7,>=1.5.6 in /opt/conda/lib/python3.10/site-packages (from requests[socks]->gdown) (1.7.1)\nRequirement already satisfied: pycparser in /opt/conda/lib/python3.10/site-packages (from CFFI>=1.0->sounddevice>=0.4.4->mediapipe) (2.21)\n\u001B[33mWARNING: Running pip as the 'root' user can result in broken permissions and conflicting behaviour with the system package manager. It is recommended to use a virtual environment instead: https://pip.pypa.io/warnings/venv\u001B[0m\u001B[33m\n\u001B[0mNote: you may need to restart the kernel to use updated packages.\n",
     "output_type": "stream"
    }
   ]
  },
  {
   "cell_type": "code",
   "source": [
    "!gdown --id 1p4Ddm9_Cumr51jjAxJ1FY4O_0b8H_jlk\n",
    "!gdown --id  1hIL8qXT6AfcycSG2UqtsmGQY89SYy850\n",
    "!gdown --id 15ne89XXtiNp6U9GLmflBJ4DNNeu3NRWK\n",
    "!gdown --id 1xVKjBOpxVXI9jaxK9GBOFS0VVEAGqRIJ\n",
    "!gdown --id 1l0eotEZiogvpSyGdroqHus_U77aS2CFU"
   ],
   "metadata": {
    "execution": {
     "iopub.status.busy": "2023-05-24T02:13:17.796263Z",
     "iopub.execute_input": "2023-05-24T02:13:17.796632Z",
     "iopub.status.idle": "2023-05-24T02:13:35.497598Z",
     "shell.execute_reply.started": "2023-05-24T02:13:17.796597Z",
     "shell.execute_reply": "2023-05-24T02:13:35.496549Z"
    },
    "trusted": true
   },
   "execution_count": 40,
   "outputs": [
    {
     "name": "stdout",
     "text": "/opt/conda/lib/python3.10/site-packages/gdown/cli.py:126: FutureWarning: Option `--id` was deprecated in version 4.3.1 and will be removed in 5.0. You don't need to pass it anymore to use a file ID.\n  warnings.warn(\nDownloading...\nFrom (uriginal): https://drive.google.com/uc?id=1p4Ddm9_Cumr51jjAxJ1FY4O_0b8H_jlk\nFrom (redirected): https://drive.google.com/uc?id=1p4Ddm9_Cumr51jjAxJ1FY4O_0b8H_jlk&confirm=t&uuid=d04a650f-2ee7-45c9-bc5b-9f345ffeda98\nTo: /kaggle/working/dummy_model.pt\n100%|██████████████████████████████████████| 84.9M/84.9M [00:03<00:00, 26.1MB/s]\n/opt/conda/lib/python3.10/site-packages/gdown/cli.py:126: FutureWarning: Option `--id` was deprecated in version 4.3.1 and will be removed in 5.0. You don't need to pass it anymore to use a file ID.\n  warnings.warn(\nDownloading...\nFrom: https://drive.google.com/uc?id=1hIL8qXT6AfcycSG2UqtsmGQY89SYy850\nTo: /kaggle/working/WIN_20230518_16_57_06_Pro.jpg\n100%|██████████████████████████████████████| 80.5k/80.5k [00:00<00:00, 90.3MB/s]\n/opt/conda/lib/python3.10/site-packages/gdown/cli.py:126: FutureWarning: Option `--id` was deprecated in version 4.3.1 and will be removed in 5.0. You don't need to pass it anymore to use a file ID.\n  warnings.warn(\nDownloading...\nFrom: https://drive.google.com/uc?id=15ne89XXtiNp6U9GLmflBJ4DNNeu3NRWK\nTo: /kaggle/working/WIN_20230518_16_56_26_Pro.jpg\n100%|██████████████████████████████████████| 81.3k/81.3k [00:00<00:00, 73.0MB/s]\n/opt/conda/lib/python3.10/site-packages/gdown/cli.py:126: FutureWarning: Option `--id` was deprecated in version 4.3.1 and will be removed in 5.0. You don't need to pass it anymore to use a file ID.\n  warnings.warn(\nDownloading...\nFrom: https://drive.google.com/uc?id=1xVKjBOpxVXI9jaxK9GBOFS0VVEAGqRIJ\nTo: /kaggle/working/WIN_20230518_16_56_48_Pro.jpg\n100%|██████████████████████████████████████| 92.2k/92.2k [00:00<00:00, 75.3MB/s]\n/opt/conda/lib/python3.10/site-packages/gdown/cli.py:126: FutureWarning: Option `--id` was deprecated in version 4.3.1 and will be removed in 5.0. You don't need to pass it anymore to use a file ID.\n  warnings.warn(\nDownloading...\nFrom: https://drive.google.com/uc?id=1l0eotEZiogvpSyGdroqHus_U77aS2CFU\nTo: /kaggle/working/Screenshot_4.jpg\n100%|██████████████████████████████████████| 51.0k/51.0k [00:00<00:00, 64.4MB/s]\n",
     "output_type": "stream"
    }
   ]
  },
  {
   "cell_type": "code",
   "source": [
    "# Импортируем библиотеки \n",
    "import pprint\n",
    "import ast\n",
    "import random\n",
    "import time\n",
    "import json\n",
    "import os\n",
    "import cv2\n",
    "\n",
    "import torch\n",
    "import timm\n",
    "import torch.nn as nn\n",
    "import matplotlib.pyplot as plt\n",
    "import mediapipe as mp\n",
    "import pandas as pd\n",
    "import numpy as np\n",
    "import albumentations as A\n",
    "from  albumentations.pytorch.transforms import ToTensorV2\n",
    "import torch.optim.lr_scheduler as lr_scheduler\n",
    "\n",
    "from sklearn.model_selection import train_test_split\n",
    "from torch.utils.data import Dataset, DataLoader\n",
    "from box import Box\n",
    "from tqdm import tqdm"
   ],
   "metadata": {
    "execution": {
     "iopub.status.busy": "2023-05-24T02:13:35.498991Z",
     "iopub.execute_input": "2023-05-24T02:13:35.499340Z",
     "iopub.status.idle": "2023-05-24T02:13:35.507640Z",
     "shell.execute_reply.started": "2023-05-24T02:13:35.499308Z",
     "shell.execute_reply": "2023-05-24T02:13:35.506343Z"
    },
    "trusted": true
   },
   "execution_count": 41,
   "outputs": []
  },
  {
   "cell_type": "code",
   "source": [
    "df = pd.read_csv('/kaggle/input/freihand-32000-first/data_new.csv')\n",
    "\n",
    "xy_points_list = []\n",
    "for i, row in df.iterrows():\n",
    "    cleaned_str = [int(i) for i in row['xy_points'].replace('\\n', ',').replace('[', ' ').replace(']', ' ').replace(',', ' ').split()]\n",
    "    uv = [cleaned_str[i:i+2] for i in range(0, len(cleaned_str), 2)]\n",
    "    xy_points_list.append(uv)\n",
    "\n",
    "    \n",
    "df['xy'] = xy_points_list"
   ],
   "metadata": {
    "execution": {
     "iopub.status.busy": "2023-05-24T02:13:35.510378Z",
     "iopub.execute_input": "2023-05-24T02:13:35.510704Z",
     "iopub.status.idle": "2023-05-24T02:13:38.782226Z",
     "shell.execute_reply.started": "2023-05-24T02:13:35.510676Z",
     "shell.execute_reply": "2023-05-24T02:13:38.781226Z"
    },
    "trusted": true
   },
   "execution_count": 42,
   "outputs": []
  },
  {
   "cell_type": "code",
   "source": [
    "# Cоздадим конфиг для обучения модели\n",
    "config = Box()\n",
    "\n",
    "config.num_workers = os.cpu_count()\n",
    "config.batch_size = 64\n",
    "config.device = torch.device('cuda' if torch.cuda.is_available() else 'cpu')\n",
    "config.seed = 1771\n",
    "config.model_name = 'tf_efficientnetv2_s_in21k'\n",
    "config.num_features = 42\n",
    "config.optimizer_lr = 0.0001\n",
    "config.epochs = 55\n",
    "config.test_size = 0.4"
   ],
   "metadata": {
    "execution": {
     "iopub.status.busy": "2023-05-24T02:13:38.783445Z",
     "iopub.execute_input": "2023-05-24T02:13:38.783767Z",
     "iopub.status.idle": "2023-05-24T02:13:38.789932Z",
     "shell.execute_reply.started": "2023-05-24T02:13:38.783739Z",
     "shell.execute_reply": "2023-05-24T02:13:38.788757Z"
    },
    "trusted": true
   },
   "execution_count": 43,
   "outputs": []
  },
  {
   "cell_type": "code",
   "source": [
    "# Загружаем нашу модель \n",
    "model = torch.load(\"/kaggle/working/dummy_model.pt\", map_location=\"cpu\")\n",
    "model.eval()\n",
    "print('Model is loaded')"
   ],
   "metadata": {
    "execution": {
     "iopub.status.busy": "2023-05-24T02:13:38.791075Z",
     "iopub.execute_input": "2023-05-24T02:13:38.791337Z",
     "iopub.status.idle": "2023-05-24T02:13:38.913952Z",
     "shell.execute_reply.started": "2023-05-24T02:13:38.791311Z",
     "shell.execute_reply": "2023-05-24T02:13:38.913183Z"
    },
    "trusted": true
   },
   "execution_count": 44,
   "outputs": [
    {
     "name": "stdout",
     "text": "Model is loaded\n",
     "output_type": "stream"
    }
   ]
  },
  {
   "cell_type": "code",
   "source": [
    "# Фиксируем сид для воспроизведения эксперимента в дальнейшем \n",
    "def set_seed(seed):\n",
    "    random.seed(seed)\n",
    "    np.random.seed(seed)\n",
    "    torch.manual_seed(seed)\n",
    "    torch.cuda.manual_seed(seed)\n",
    "    torch.backends.cudnn.deterministic = False\n",
    "    torch.backends.cudnn.benchmark = True\n",
    "\n",
    "    print(f'Set seed: {seed}')\n",
    "    \n",
    "set_seed(seed=config.seed)"
   ],
   "metadata": {
    "execution": {
     "iopub.status.busy": "2023-05-24T02:13:38.915023Z",
     "iopub.execute_input": "2023-05-24T02:13:38.915762Z",
     "iopub.status.idle": "2023-05-24T02:13:38.922218Z",
     "shell.execute_reply.started": "2023-05-24T02:13:38.915732Z",
     "shell.execute_reply": "2023-05-24T02:13:38.921522Z"
    },
    "trusted": true
   },
   "execution_count": 45,
   "outputs": [
    {
     "name": "stdout",
     "text": "Set seed: 1771\n",
     "output_type": "stream"
    }
   ]
  },
  {
   "cell_type": "code",
   "source": [
    "# Напишем датаcэт для наших данных \n",
    "class HandDatasetTest(Dataset):\n",
    "    def __init__(self, df, size):\n",
    "        self.df = df\n",
    "        self.size = size\n",
    "        self.transform = A.Compose([\n",
    "        A.Resize(width=size, height=size, p=1.0),\n",
    "        A.Normalize(p=1),\n",
    "        ToTensorV2()],\n",
    "        keypoint_params=A.KeypointParams(format='xy'))\n",
    "\n",
    "    \n",
    "    def __len__(self):\n",
    "        return len(self.df)\n",
    "    \n",
    "    def __getitem__(self, idx):\n",
    "        row = self.df.loc[idx]\n",
    "        image_path, json_path = row['path_to_img'], row['xy']\n",
    "        image = cv2.imread(image_path)\n",
    "        \n",
    "        \n",
    "        hand_pts = row['xy']\n",
    "        transformed = self.transform(image=image, keypoints=hand_pts)\n",
    "        transformed_image = transformed['image']\n",
    "        transformed_hand_pts = transformed['keypoints']\n",
    "        \n",
    "        # Удаляю все точки, которые вышли за рамки нашего кропа. \n",
    "        for el in range(len(transformed_hand_pts)):\n",
    "            if min(transformed_hand_pts[el]) < 0 or max(transformed_hand_pts[el]) >= self.size: \n",
    "                transformed_hand_pts[el] = [0., 0.]\n",
    "            else:\n",
    "                transformed_hand_pts[el] = [transformed_hand_pts[el][0] / self.size, transformed_hand_pts[el][1] / self.size]\n",
    "                 \n",
    "             \n",
    "        target = torch.tensor([item for sublist in transformed_hand_pts for item in sublist])\n",
    "        \n",
    "        \n",
    "\n",
    "        return (transformed_image.float(), target, image_path)\n",
    "        "
   ],
   "metadata": {
    "execution": {
     "iopub.status.busy": "2023-05-24T02:13:38.923403Z",
     "iopub.execute_input": "2023-05-24T02:13:38.923896Z",
     "iopub.status.idle": "2023-05-24T02:13:38.933567Z",
     "shell.execute_reply.started": "2023-05-24T02:13:38.923867Z",
     "shell.execute_reply": "2023-05-24T02:13:38.932678Z"
    },
    "trusted": true
   },
   "execution_count": 46,
   "outputs": []
  },
  {
   "cell_type": "code",
   "source": [
    "# Создадим из наших данных датасэт, на котором будем сравнивать метрики\n",
    "train_df, val_df = train_test_split(df, \n",
    "                                    test_size=config.test_size,\n",
    "                                    random_state=config.seed)\n",
    "\n",
    "dataset_test = HandDatasetTest(val_df.reset_index(), 224)\n"
   ],
   "metadata": {
    "execution": {
     "iopub.status.busy": "2023-05-24T02:13:38.934733Z",
     "iopub.execute_input": "2023-05-24T02:13:38.935017Z",
     "iopub.status.idle": "2023-05-24T02:13:39.055190Z",
     "shell.execute_reply.started": "2023-05-24T02:13:38.934990Z",
     "shell.execute_reply": "2023-05-24T02:13:39.054225Z"
    },
    "trusted": true
   },
   "execution_count": 47,
   "outputs": []
  },
  {
   "cell_type": "code",
   "source": [
    "r_img_V, target, image_path  = dataset_test[random.randint(0, len(dataset_test))]"
   ],
   "metadata": {
    "execution": {
     "iopub.status.busy": "2023-05-24T02:13:39.059116Z",
     "iopub.execute_input": "2023-05-24T02:13:39.059448Z",
     "iopub.status.idle": "2023-05-24T02:13:39.070534Z",
     "shell.execute_reply.started": "2023-05-24T02:13:39.059418Z",
     "shell.execute_reply": "2023-05-24T02:13:39.069637Z"
    },
    "trusted": true
   },
   "execution_count": 48,
   "outputs": []
  },
  {
   "cell_type": "code",
   "source": [
    "# Проведем визуальное сравнение на случайном фото нашей модели и модели от mediapipe\n",
    "\n",
    "# Предсказание медиопайпа\n",
    "mp_hands = mp.solutions.hands\n",
    "hands = mp_hands.Hands(static_image_mode=False, max_num_hands=1, min_detection_confidence=0.5)\n",
    "image = cv2.imread(image_path)\n",
    "image_rgb = cv2.cvtColor(image, cv2.COLOR_BGR2RGB)\n",
    "img_resize = cv2.resize(image_rgb, (224, 224), interpolation = cv2.INTER_AREA)\n",
    "\n",
    "results = hands.process(image_rgb)\n",
    "results_xy = []\n",
    "for hand_landmarks in results.multi_hand_landmarks:\n",
    "        for landmark in hand_landmarks.landmark:\n",
    "            results_xy.append(landmark.x)\n",
    "            results_xy.append(landmark.y)"
   ],
   "metadata": {
    "execution": {
     "iopub.status.busy": "2023-05-24T02:13:39.071949Z",
     "iopub.execute_input": "2023-05-24T02:13:39.072308Z",
     "iopub.status.idle": "2023-05-24T02:13:39.195292Z",
     "shell.execute_reply.started": "2023-05-24T02:13:39.072278Z",
     "shell.execute_reply": "2023-05-24T02:13:39.194425Z"
    },
    "trusted": true
   },
   "execution_count": 49,
   "outputs": []
  },
  {
   "cell_type": "code",
   "source": [
    "# Предсказания нашей модели \n",
    "\n",
    "pred = model.forward(r_img_V.unsqueeze(0))[0]"
   ],
   "metadata": {
    "execution": {
     "iopub.status.busy": "2023-05-24T02:13:39.196144Z",
     "iopub.execute_input": "2023-05-24T02:13:39.196412Z",
     "iopub.status.idle": "2023-05-24T02:13:39.358919Z",
     "shell.execute_reply.started": "2023-05-24T02:13:39.196387Z",
     "shell.execute_reply": "2023-05-24T02:13:39.357909Z"
    },
    "trusted": true
   },
   "execution_count": 50,
   "outputs": []
  },
  {
   "cell_type": "code",
   "source": [
    "# Трансформируем предсказанные значения в коориднаты и визуально посмотрим на результат.\n",
    "# Правильные координаты с разметки\n",
    "target_upd = target * 224 // 1\n",
    "target_upd = target_upd.detach().cpu().numpy()\n",
    "uv = np.array([target_upd[i:i+2] for i in range(0, len(target_upd), 2)])\n",
    "\n",
    "# Координаты предсказанные нашей моделью\n",
    "pred = (pred * 224 // 1).detach().cpu().numpy()\n",
    "pred_xy = np.array([pred[i:i+2] for i in range(0, len(pred), 2)])\n",
    "\n",
    "# Медиапайп\n",
    "results_xy = [i * 224 // 1 for i in results_xy]\n",
    "results_xy_c = np.array([results_xy[i:i+2] for i in range(0, len(results_xy), 2)])\n"
   ],
   "metadata": {
    "execution": {
     "iopub.status.busy": "2023-05-24T02:13:39.362350Z",
     "iopub.execute_input": "2023-05-24T02:13:39.362710Z",
     "iopub.status.idle": "2023-05-24T02:13:39.373269Z",
     "shell.execute_reply.started": "2023-05-24T02:13:39.362678Z",
     "shell.execute_reply": "2023-05-24T02:13:39.372217Z"
    },
    "trusted": true
   },
   "execution_count": 51,
   "outputs": []
  },
  {
   "cell_type": "code",
   "source": [
    "# Отобразим визуально предсказанные координаты \n",
    "r_img_V_np = r_img_V.numpy()\n",
    "\n",
    "fig, axs = plt.subplots(1, 3, figsize=(10, 5))\n",
    "\n",
    "# Отображение первой картинки\n",
    "axs[0].imshow(np.transpose(r_img_V_np, (1, 2, 0)))\n",
    "axs[0].scatter(uv[:, 0], uv[:, 1], color='red', s=10)\n",
    "axs[0].axis('off')\n",
    "axs[0].set_title('True points')\n",
    "# Отображение второй картинки\n",
    "axs[1].imshow(np.transpose(r_img_V_np, (1, 2, 0)))\n",
    "axs[1].scatter(pred_xy[:, 0], pred_xy[:, 1], color='red', s=10)\n",
    "axs[1].axis('off')\n",
    "axs[1].set_title('Predict our model')\n",
    "# Отображение третьей картинки\n",
    "axs[2].imshow(np.transpose(r_img_V_np, (1, 2, 0)))\n",
    "axs[2].scatter(results_xy_c[:, 0], results_xy_c[:, 1], color='red', s=10)\n",
    "axs[2].axis('off')\n",
    "axs[2].set_title('Predict mediapipe')\n",
    "\n",
    "# Показать график\n",
    "plt.show()"
   ],
   "metadata": {
    "execution": {
     "iopub.status.busy": "2023-05-24T02:13:39.374260Z",
     "iopub.execute_input": "2023-05-24T02:13:39.374542Z",
     "iopub.status.idle": "2023-05-24T02:13:39.691322Z",
     "shell.execute_reply.started": "2023-05-24T02:13:39.374516Z",
     "shell.execute_reply": "2023-05-24T02:13:39.690367Z"
    },
    "trusted": true
   },
   "execution_count": 52,
   "outputs": [
    {
     "output_type": "display_data",
     "data": {
      "text/plain": "<Figure size 1000x500 with 3 Axes>",
      "image/png": "[encoded data removed]"
     },
     "metadata": {}
    }
   ]
  },
  {
   "cell_type": "code",
   "source": [
    "# Визуально на случайном изображение медиапайп работает лучше \n",
    "# Cравним работу моделей на всех наших данных. \n",
    "# Как метрику будем использовать Mean Euclidean Error. \n",
    "\n",
    "def mean_euclidean_error(predicted_points, true_points):\n",
    "    \n",
    "    predicted_points = np.reshape(predicted_points, (-1, predicted_points.shape[1] // 2, 2))\n",
    "    true_points = np.reshape(true_points, (-1, true_points.shape[1] // 2, 2))\n",
    "    \n",
    "    errors = np.sqrt(np.sum((predicted_points - true_points) ** 2, axis=2))\n",
    "    mean_error = np.mean(errors) \n",
    "    return mean_error\n",
    " \n",
    "# Test\n",
    "print(f\"MEE our model: {mean_euclidean_error(pred_xy, uv):.3f}\")\n",
    "print(f\"MEE Mediapipe: {mean_euclidean_error(results_xy_c, uv):.3f}\")"
   ],
   "metadata": {
    "execution": {
     "iopub.status.busy": "2023-05-24T02:13:39.692510Z",
     "iopub.execute_input": "2023-05-24T02:13:39.692811Z",
     "iopub.status.idle": "2023-05-24T02:13:39.700377Z",
     "shell.execute_reply.started": "2023-05-24T02:13:39.692783Z",
     "shell.execute_reply": "2023-05-24T02:13:39.699346Z"
    },
    "trusted": true
   },
   "execution_count": 53,
   "outputs": [
    {
     "name": "stdout",
     "text": "MEE our model: 12.303\nMEE Mediapipe: 5.428\n",
     "output_type": "stream"
    }
   ]
  },
  {
   "cell_type": "code",
   "source": [
    "# Пройдемся по всем изображениям в нашем датафрейме и посчитаем ошибку моделей для сравнения результатов \n",
    "\n",
    "# Константы для статистики \n",
    "lst_error_pipe = []\n",
    "lst_error_model = []\n",
    "our_model_best = 0\n",
    "pipe_best = 0\n",
    "pipe_not_detected = 0\n",
    "for ind in tqdm(range(len(dataset_test))):\n",
    "    predicts = True\n",
    "    # Получаем вектор из датасэта\n",
    "    try:\n",
    "        r_img_V, target, image_path  = dataset_test[ind]\n",
    "    except:\n",
    "        continue\n",
    "    \n",
    "    image = cv2.imread(image_path)\n",
    "    image_rgb = cv2.cvtColor(image, cv2.COLOR_BGR2RGB)\n",
    "    img_resize = cv2.resize(image_rgb, (224, 224), interpolation = cv2.INTER_AREA)\n",
    "    \n",
    "    # Предсказание medipipe\n",
    "    results = hands.process(image_rgb)\n",
    "    results_xy = []\n",
    "    if results.multi_hand_landmarks is None:\n",
    "        pipe_not_detected += 1\n",
    "        continue\n",
    "        \n",
    "    for hand_landmarks in results.multi_hand_landmarks:\n",
    "            for landmark in hand_landmarks.landmark:\n",
    "                results_xy.append(landmark.x)\n",
    "                results_xy.append(landmark.y)\n",
    "                \n",
    "    # Предсказание модели\n",
    "    pred = model.forward(r_img_V.unsqueeze(0))[0]\n",
    "    \n",
    "    # Трансформируем предсказанные значения в коориднаты \n",
    "    # Правильные координаты с разметки\n",
    "    target_upd = target * 224 // 1\n",
    "    target_upd = target_upd.detach().cpu().numpy()\n",
    "    uv = np.array([target_upd[i:i+2] for i in range(0, len(target_upd), 2)])\n",
    "\n",
    "    # Координаты предсказанные нашей моделью\n",
    "    pred = (pred * 224 // 1).detach().cpu().numpy()\n",
    "    pred_xy = np.array([pred[i:i+2] for i in range(0, len(pred), 2)])\n",
    "\n",
    "    # Медиапайп\n",
    "    results_xy = [i * 224 // 1 for i in results_xy]\n",
    "    results_xy_c = np.array([results_xy[i:i+2] for i in range(0, len(results_xy), 2)])\n",
    "    \n",
    "    error_model = mean_euclidean_error(pred_xy, uv)\n",
    "    error_mm = mean_euclidean_error(results_xy_c, uv)\n",
    "    lst_error_pipe.append(error_mm)\n",
    "    lst_error_model.append(error_model)\n",
    "    \n",
    "    if error_model > error_mm:\n",
    "        pipe_best += 1\n",
    "    else:\n",
    "        our_model_best += 1\n",
    "        \n",
    "    "
   ],
   "metadata": {
    "execution": {
     "iopub.status.busy": "2023-05-24T02:13:39.701967Z",
     "iopub.execute_input": "2023-05-24T02:13:39.702265Z",
     "iopub.status.idle": "2023-05-24T02:42:17.578942Z",
     "shell.execute_reply.started": "2023-05-24T02:13:39.702237Z",
     "shell.execute_reply": "2023-05-24T02:42:17.577761Z"
    },
    "trusted": true
   },
   "execution_count": 54,
   "outputs": [
    {
     "name": "stderr",
     "text": "100%|██████████| 13024/13024 [28:37<00:00,  7.58it/s]\n",
     "output_type": "stream"
    }
   ]
  },
  {
   "cell_type": "code",
   "source": [
    "mean_error_pipe = np.mean(lst_error_pipe)\n",
    "mean_error_model = np.mean(lst_error_model)"
   ],
   "metadata": {
    "execution": {
     "iopub.status.busy": "2023-05-24T02:42:17.580558Z",
     "iopub.execute_input": "2023-05-24T02:42:17.580914Z",
     "iopub.status.idle": "2023-05-24T02:42:17.588787Z",
     "shell.execute_reply.started": "2023-05-24T02:42:17.580881Z",
     "shell.execute_reply": "2023-05-24T02:42:17.587333Z"
    },
    "trusted": true
   },
   "execution_count": 55,
   "outputs": []
  },
  {
   "cell_type": "code",
   "source": [
    "print(f'MEE our model {mean_error_model}')\n",
    "print(f'MEE mediapipe model {mean_error_pipe}')\n",
    "print(f'Our model best {our_model_best}')\n",
    "print(f'Mediapipe model best {pipe_best}')\n",
    "print(f'Mediapipe witout detected {pipe_not_detected}')"
   ],
   "metadata": {
    "execution": {
     "iopub.status.busy": "2023-05-24T02:42:17.590595Z",
     "iopub.execute_input": "2023-05-24T02:42:17.590928Z",
     "iopub.status.idle": "2023-05-24T02:42:17.603704Z",
     "shell.execute_reply.started": "2023-05-24T02:42:17.590899Z",
     "shell.execute_reply": "2023-05-24T02:42:17.602518Z"
    },
    "trusted": true
   },
   "execution_count": 56,
   "outputs": [
    {
     "name": "stdout",
     "text": "MEE our model 9.107809066772461\nMEE mediapipe model 12.73230297674554\nOur model best 6060\nMediapipe model best 4155\nMediapipe witout detected 2806\n",
     "output_type": "stream"
    }
   ]
  }
 ]
}
